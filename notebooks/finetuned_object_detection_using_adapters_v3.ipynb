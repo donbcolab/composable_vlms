{
  "nbformat": 4,
  "nbformat_minor": 0,
  "metadata": {
    "colab": {
      "provenance": [],
      "gpuType": "T4",
      "toc_visible": true,
      "include_colab_link": true
    },
    "kernelspec": {
      "name": "python3",
      "display_name": "Python 3"
    },
    "language_info": {
      "name": "python"
    },
    "accelerator": "GPU"
  },
  "cells": [
    {
      "cell_type": "markdown",
      "metadata": {
        "id": "view-in-github",
        "colab_type": "text"
      },
      "source": [
        "<a href=\"https://colab.research.google.com/github/donbcolab/composable_vlms/blob/main/notebooks/finetuned_object_detection_using_adapters_v3.ipynb\" target=\"_parent\"><img src=\"https://colab.research.google.com/assets/colab-badge.svg\" alt=\"Open In Colab\"/></a>"
      ]
    },
    {
      "cell_type": "markdown",
      "source": [
        "# Finetuned Object Detection - using adapters"
      ],
      "metadata": {
        "id": "WCVECX88ig-u"
      }
    },
    {
      "cell_type": "code",
      "source": [
        "!pip install -q einops flash_attn timm peft"
      ],
      "metadata": {
        "id": "B6-4X-tF2p6v"
      },
      "execution_count": null,
      "outputs": []
    },
    {
      "cell_type": "code",
      "execution_count": null,
      "metadata": {
        "id": "p0DPyR0Z2Vgy"
      },
      "outputs": [],
      "source": [
        "import requests\n",
        "import torch\n",
        "\n",
        "from PIL import Image\n",
        "from transformers import AutoProcessor, AutoModelForCausalLM\n",
        "\n",
        "device = \"cuda:0\" if torch.cuda.is_available() else \"cpu\"\n",
        "torch_dtype = torch.float16 if torch.cuda.is_available() else torch.float32"
      ]
    },
    {
      "cell_type": "markdown",
      "source": [
        "## Start with a Light Weight Vision Model - with Fine tuning capabilities"
      ],
      "metadata": {
        "id": "UWpNmgCXfCbp"
      }
    },
    {
      "cell_type": "code",
      "source": [
        "from transformers import AutoModelForCausalLM, AutoTokenizer\n",
        "\n",
        "base_vision_model_id = \"microsoft/Florence-2-large-ft\""
      ],
      "metadata": {
        "id": "zAEOUQb2dwxK"
      },
      "execution_count": null,
      "outputs": []
    },
    {
      "cell_type": "markdown",
      "source": [
        "Set it for Object Detection mode"
      ],
      "metadata": {
        "id": "kRwiz1-Vfo47"
      }
    },
    {
      "cell_type": "code",
      "source": [
        "hardcoded_od_prompt = \"<OD>\""
      ],
      "metadata": {
        "id": "NIMgVIRrftJp"
      },
      "execution_count": null,
      "outputs": []
    },
    {
      "cell_type": "markdown",
      "source": [
        "## Patient Blood Sample Biopsy"
      ],
      "metadata": {
        "id": "5pHtF-uiep_1"
      }
    },
    {
      "cell_type": "code",
      "source": [
        "src_image_url = \"https://huggingface.co/spaces/dwb2023/omniscience/resolve/main/examples/BloodImage_00099_jpg.rf.0a65e56401cdd71253e7bc04917c3558.jpg\"\n",
        "src_image = Image.open(requests.get(src_image_url, stream=True).raw)"
      ],
      "metadata": {
        "id": "dsONw757kMnx"
      },
      "execution_count": null,
      "outputs": []
    },
    {
      "cell_type": "markdown",
      "source": [
        "### Setup and validate the Base Model"
      ],
      "metadata": {
        "id": "Tm9_Ld5ajHf1"
      }
    },
    {
      "cell_type": "code",
      "source": [
        "model = AutoModelForCausalLM.from_pretrained(base_vision_model_id, torch_dtype=torch_dtype, trust_remote_code=True).to(device)\n",
        "\n",
        "processor = AutoProcessor.from_pretrained(base_vision_model_id, trust_remote_code=True)\n",
        "\n",
        "inputs = processor(text=hardcoded_od_prompt, images=src_image, return_tensors=\"pt\").to(device, torch_dtype)"
      ],
      "metadata": {
        "id": "FQTgnNUs6ljc"
      },
      "execution_count": null,
      "outputs": []
    },
    {
      "cell_type": "code",
      "source": [
        "generated_ids = model.generate(\n",
        "    input_ids=inputs[\"input_ids\"],\n",
        "    pixel_values=inputs[\"pixel_values\"],\n",
        "    max_new_tokens=1024,\n",
        "    do_sample=False,\n",
        "    num_beams=3\n",
        ")\n",
        "generated_text = processor.batch_decode(generated_ids, skip_special_tokens=False)[0]\n",
        "\n",
        "parsed_answer = processor.post_process_generation(generated_text, task=\"<OD>\", image_size=(src_image.width, src_image.height))\n",
        "\n",
        "print(parsed_answer)"
      ],
      "metadata": {
        "id": "Or8cNH8UxEd6"
      },
      "execution_count": null,
      "outputs": []
    },
    {
      "cell_type": "markdown",
      "source": [
        "### add fine-tuned blood biopsy adapter"
      ],
      "metadata": {
        "id": "VKTc65rxoNDb"
      }
    },
    {
      "cell_type": "code",
      "source": [
        "blood_cell_adapter = \"dwb2023/florence2-large-bccd-base-ft\"\n",
        "\n",
        "model.load_adapter(blood_cell_adapter)"
      ],
      "metadata": {
        "id": "ofzAdb-3khg6"
      },
      "execution_count": null,
      "outputs": []
    },
    {
      "cell_type": "code",
      "source": [
        "generated_ids = model.generate(\n",
        "    input_ids=inputs[\"input_ids\"],\n",
        "    pixel_values=inputs[\"pixel_values\"],\n",
        "    max_new_tokens=1024,\n",
        "    do_sample=False,\n",
        "    num_beams=3\n",
        ")\n",
        "generated_text = processor.batch_decode(generated_ids, skip_special_tokens=False)[0]\n",
        "\n",
        "parsed_answer = processor.post_process_generation(generated_text, task=\"<OD>\", image_size=(src_image.width, src_image.height))\n",
        "\n",
        "print(parsed_answer)"
      ],
      "metadata": {
        "id": "wJlK4eP4l05j"
      },
      "execution_count": null,
      "outputs": []
    },
    {
      "cell_type": "markdown",
      "source": [
        "## Patient Liver Sample Biopsy"
      ],
      "metadata": {
        "id": "GCbQ--kwelEu"
      }
    },
    {
      "cell_type": "code",
      "source": [
        "src_image_url = \"https://huggingface.co/spaces/dwb2023/omniscience/resolve/main/examples/15_242_212_25_25_jpg.rf.f6bbadf4260dd2c1f5b4ace1b09b0a1b.jpg\"\n",
        "src_image = Image.open(requests.get(src_image_url, stream=True).raw)"
      ],
      "metadata": {
        "id": "dP7ErCPToi2C"
      },
      "execution_count": null,
      "outputs": []
    },
    {
      "cell_type": "markdown",
      "source": [
        "### Set up and validate the Base Model"
      ],
      "metadata": {
        "id": "0TLx6byQodem"
      }
    },
    {
      "cell_type": "code",
      "source": [
        "model = AutoModelForCausalLM.from_pretrained(base_vision_model_id, torch_dtype=torch_dtype, trust_remote_code=True).to(device)\n",
        "\n",
        "processor = AutoProcessor.from_pretrained(base_vision_model_id, trust_remote_code=True)\n",
        "\n",
        "inputs = processor(text=hardcoded_od_prompt, images=src_image, return_tensors=\"pt\").to(device, torch_dtype)"
      ],
      "metadata": {
        "id": "lJAjy7JNpDvg"
      },
      "execution_count": null,
      "outputs": []
    },
    {
      "cell_type": "code",
      "source": [
        "generated_ids = model.generate(\n",
        "    input_ids=inputs[\"input_ids\"],\n",
        "    pixel_values=inputs[\"pixel_values\"],\n",
        "    max_new_tokens=1024,\n",
        "    do_sample=False,\n",
        "    num_beams=3\n",
        ")\n",
        "generated_text = processor.batch_decode(generated_ids, skip_special_tokens=False)[0]\n",
        "\n",
        "parsed_answer = processor.post_process_generation(generated_text, task=\"<OD>\", image_size=(src_image.width, src_image.height))\n",
        "\n",
        "print(parsed_answer)"
      ],
      "metadata": {
        "id": "e5dWtxj6rNTQ"
      },
      "execution_count": null,
      "outputs": []
    },
    {
      "cell_type": "markdown",
      "source": [
        "### add fine-tuned liver biopsy adapter"
      ],
      "metadata": {
        "id": "QNHd1kVoo1nh"
      }
    },
    {
      "cell_type": "code",
      "source": [
        "liver_disease_adapter = \"dwb2023/florence2-large-liver-disease-ft\"\n",
        "\n",
        "model.load_adapter(liver_disease_adapter)"
      ],
      "metadata": {
        "id": "g30PscGYoXfO"
      },
      "execution_count": null,
      "outputs": []
    },
    {
      "cell_type": "code",
      "source": [
        "generated_ids = model.generate(\n",
        "    input_ids=inputs[\"input_ids\"],\n",
        "    pixel_values=inputs[\"pixel_values\"],\n",
        "    max_new_tokens=1024,\n",
        "    do_sample=False,\n",
        "    num_beams=3\n",
        ")\n",
        "generated_text = processor.batch_decode(generated_ids, skip_special_tokens=False)[0]\n",
        "\n",
        "parsed_answer = processor.post_process_generation(generated_text, task=\"<OD>\", image_size=(src_image.width, src_image.height))\n",
        "\n",
        "print(parsed_answer)"
      ],
      "metadata": {
        "id": "iYo3A92E2Xny"
      },
      "execution_count": null,
      "outputs": []
    },
    {
      "cell_type": "code",
      "source": [],
      "metadata": {
        "id": "Bh4SJbJdnuRi"
      },
      "execution_count": null,
      "outputs": []
    }
  ]
}