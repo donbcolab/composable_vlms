{
  "nbformat": 4,
  "nbformat_minor": 0,
  "metadata": {
    "colab": {
      "provenance": [],
      "gpuType": "T4",
      "toc_visible": true,
      "include_colab_link": true
    },
    "kernelspec": {
      "name": "python3",
      "display_name": "Python 3"
    },
    "language_info": {
      "name": "python"
    },
    "accelerator": "GPU"
  },
  "cells": [
    {
      "cell_type": "markdown",
      "metadata": {
        "id": "view-in-github",
        "colab_type": "text"
      },
      "source": [
        "<a href=\"https://colab.research.google.com/github/donbcolab/composable_vlms/blob/main/notebooks/finetuned_object_detection_using_adapters_final.ipynb\" target=\"_parent\"><img src=\"https://colab.research.google.com/assets/colab-badge.svg\" alt=\"Open In Colab\"/></a>"
      ]
    },
    {
      "cell_type": "markdown",
      "source": [
        "# Finetuned Object Detection - using vision model adapters"
      ],
      "metadata": {
        "id": "WCVECX88ig-u"
      }
    },
    {
      "cell_type": "code",
      "source": [
        "!pip install -q einops flash_attn timm peft"
      ],
      "metadata": {
        "id": "B6-4X-tF2p6v"
      },
      "execution_count": 15,
      "outputs": []
    },
    {
      "cell_type": "code",
      "execution_count": 16,
      "metadata": {
        "id": "p0DPyR0Z2Vgy"
      },
      "outputs": [],
      "source": [
        "import requests\n",
        "import torch\n",
        "\n",
        "from PIL import Image\n",
        "from transformers import AutoProcessor, AutoModelForCausalLM\n",
        "\n",
        "device = \"cuda:0\" if torch.cuda.is_available() else \"cpu\"\n",
        "torch_dtype = torch.float16 if torch.cuda.is_available() else torch.float32"
      ]
    },
    {
      "cell_type": "markdown",
      "source": [
        "## Start with a Small Vision Model - with Fine-Tuning capabilities"
      ],
      "metadata": {
        "id": "UWpNmgCXfCbp"
      }
    },
    {
      "cell_type": "code",
      "source": [
        "from transformers import AutoModelForCausalLM, AutoTokenizer\n",
        "\n",
        "base_vision_model_id = \"microsoft/Florence-2-large-ft\""
      ],
      "metadata": {
        "id": "zAEOUQb2dwxK"
      },
      "execution_count": 17,
      "outputs": []
    },
    {
      "cell_type": "markdown",
      "source": [
        "### Set the model for Object Detection mode"
      ],
      "metadata": {
        "id": "kRwiz1-Vfo47"
      }
    },
    {
      "cell_type": "code",
      "source": [
        "hardcoded_od_prompt = \"<OD>\""
      ],
      "metadata": {
        "id": "NIMgVIRrftJp"
      },
      "execution_count": 18,
      "outputs": []
    },
    {
      "cell_type": "markdown",
      "source": [
        "## Patient Blood Sample Biopsy"
      ],
      "metadata": {
        "id": "5pHtF-uiep_1"
      }
    },
    {
      "cell_type": "code",
      "source": [
        "src_image_url = \"https://huggingface.co/spaces/dwb2023/omniscience/resolve/main/examples/BloodImage_00099_jpg.rf.0a65e56401cdd71253e7bc04917c3558.jpg\"\n",
        "src_image = Image.open(requests.get(src_image_url, stream=True).raw)"
      ],
      "metadata": {
        "id": "dsONw757kMnx"
      },
      "execution_count": 19,
      "outputs": []
    },
    {
      "cell_type": "markdown",
      "source": [
        "### Setup and validate the Base Model"
      ],
      "metadata": {
        "id": "Tm9_Ld5ajHf1"
      }
    },
    {
      "cell_type": "code",
      "source": [
        "model = AutoModelForCausalLM.from_pretrained(base_vision_model_id, torch_dtype=torch_dtype, trust_remote_code=True).to(device)\n",
        "\n",
        "processor = AutoProcessor.from_pretrained(base_vision_model_id, trust_remote_code=True)"
      ],
      "metadata": {
        "id": "FQTgnNUs6ljc"
      },
      "execution_count": 20,
      "outputs": []
    },
    {
      "cell_type": "code",
      "source": [
        "inputs = processor(text=hardcoded_od_prompt, images=src_image, return_tensors=\"pt\").to(device, torch_dtype)\n",
        "\n",
        "generated_ids = model.generate(\n",
        "    input_ids=inputs[\"input_ids\"],\n",
        "    pixel_values=inputs[\"pixel_values\"],\n",
        "    max_new_tokens=1024,\n",
        "    do_sample=False,\n",
        "    num_beams=3\n",
        ")\n",
        "generated_text = processor.batch_decode(generated_ids, skip_special_tokens=False)[0]\n",
        "\n",
        "parsed_answer = processor.post_process_generation(generated_text, task=\"<OD>\", image_size=(src_image.width, src_image.height))\n",
        "\n",
        "print(parsed_answer)"
      ],
      "metadata": {
        "id": "Or8cNH8UxEd6",
        "outputId": "31716fe3-a388-4fb5-d956-28a5a940ec53",
        "colab": {
          "base_uri": "https://localhost:8080/"
        }
      },
      "execution_count": 21,
      "outputs": [
        {
          "output_type": "stream",
          "name": "stdout",
          "text": [
            "{'<OD>': {'bboxes': [[0.3199999928474426, 0.23999999463558197, 639.0399780273438, 479.2799987792969]], 'labels': ['jellyfish']}}\n"
          ]
        }
      ]
    },
    {
      "cell_type": "markdown",
      "source": [
        "### add the fine-tuned blood biopsy adapter"
      ],
      "metadata": {
        "id": "VKTc65rxoNDb"
      }
    },
    {
      "cell_type": "code",
      "source": [
        "blood_cell_adapter = \"dwb2023/florence2-large-bccd-base-ft\"\n",
        "\n",
        "model.load_adapter(blood_cell_adapter)"
      ],
      "metadata": {
        "id": "ofzAdb-3khg6"
      },
      "execution_count": 22,
      "outputs": []
    },
    {
      "cell_type": "code",
      "source": [
        "inputs = processor(text=hardcoded_od_prompt, images=src_image, return_tensors=\"pt\").to(device, torch_dtype)\n",
        "\n",
        "generated_ids = model.generate(\n",
        "    input_ids=inputs[\"input_ids\"],\n",
        "    pixel_values=inputs[\"pixel_values\"],\n",
        "    max_new_tokens=1024,\n",
        "    do_sample=False,\n",
        "    num_beams=3\n",
        ")\n",
        "generated_text = processor.batch_decode(generated_ids, skip_special_tokens=False)[0]\n",
        "\n",
        "parsed_answer = processor.post_process_generation(generated_text, task=\"<OD>\", image_size=(src_image.width, src_image.height))\n",
        "\n",
        "print(parsed_answer)"
      ],
      "metadata": {
        "id": "wJlK4eP4l05j",
        "outputId": "f734f8e9-20c8-4df4-b44f-ce97850e0f92",
        "colab": {
          "base_uri": "https://localhost:8080/"
        }
      },
      "execution_count": 23,
      "outputs": [
        {
          "output_type": "stream",
          "name": "stdout",
          "text": [
            "{'<OD>': {'bboxes': [[332.47998046875, 153.36000061035156, 369.6000061035156, 186.47999572753906], [213.44000244140625, 227.27999877929688, 380.47998046875, 349.1999816894531]], 'labels': ['Platelets', 'WBC']}}\n"
          ]
        }
      ]
    },
    {
      "cell_type": "markdown",
      "source": [
        "## Patient Liver Sample Biopsy"
      ],
      "metadata": {
        "id": "GCbQ--kwelEu"
      }
    },
    {
      "cell_type": "code",
      "source": [
        "src_image_url = \"https://huggingface.co/spaces/dwb2023/omniscience/resolve/main/examples/15_242_212_25_25_jpg.rf.f6bbadf4260dd2c1f5b4ace1b09b0a1b.jpg\"\n",
        "src_image = Image.open(requests.get(src_image_url, stream=True).raw)"
      ],
      "metadata": {
        "id": "dP7ErCPToi2C"
      },
      "execution_count": 24,
      "outputs": []
    },
    {
      "cell_type": "markdown",
      "source": [
        "### Set up and validate the Base Model"
      ],
      "metadata": {
        "id": "0TLx6byQodem"
      }
    },
    {
      "cell_type": "code",
      "source": [
        "model = AutoModelForCausalLM.from_pretrained(base_vision_model_id, torch_dtype=torch_dtype, trust_remote_code=True).to(device)\n",
        "\n",
        "processor = AutoProcessor.from_pretrained(base_vision_model_id, trust_remote_code=True)"
      ],
      "metadata": {
        "id": "lJAjy7JNpDvg"
      },
      "execution_count": 25,
      "outputs": []
    },
    {
      "cell_type": "code",
      "source": [
        "inputs = processor(text=hardcoded_od_prompt, images=src_image, return_tensors=\"pt\").to(device, torch_dtype)\n",
        "\n",
        "generated_ids = model.generate(\n",
        "    input_ids=inputs[\"input_ids\"],\n",
        "    pixel_values=inputs[\"pixel_values\"],\n",
        "    max_new_tokens=1024,\n",
        "    do_sample=False,\n",
        "    num_beams=3\n",
        ")\n",
        "generated_text = processor.batch_decode(generated_ids, skip_special_tokens=False)[0]\n",
        "\n",
        "parsed_answer = processor.post_process_generation(generated_text, task=\"<OD>\", image_size=(src_image.width, src_image.height))\n",
        "\n",
        "print(parsed_answer)"
      ],
      "metadata": {
        "id": "e5dWtxj6rNTQ",
        "outputId": "4281a533-475a-4f4d-b1aa-86722b1ca0a7",
        "colab": {
          "base_uri": "https://localhost:8080/"
        }
      },
      "execution_count": 26,
      "outputs": [
        {
          "output_type": "stream",
          "name": "stdout",
          "text": [
            "{'<OD>': {'bboxes': [[0.14949999749660492, 0.14949999749660492, 298.5514831542969, 298.5514831542969]], 'labels': ['flower']}}\n"
          ]
        }
      ]
    },
    {
      "cell_type": "markdown",
      "source": [
        "### add the fine-tuned liver biopsy adapter"
      ],
      "metadata": {
        "id": "QNHd1kVoo1nh"
      }
    },
    {
      "cell_type": "code",
      "source": [
        "liver_disease_adapter = \"dwb2023/florence2-large-liver-disease-ft\"\n",
        "\n",
        "model.load_adapter(liver_disease_adapter)"
      ],
      "metadata": {
        "id": "g30PscGYoXfO"
      },
      "execution_count": 27,
      "outputs": []
    },
    {
      "cell_type": "code",
      "source": [
        "inputs = processor(text=hardcoded_od_prompt, images=src_image, return_tensors=\"pt\").to(device, torch_dtype)\n",
        "\n",
        "generated_ids = model.generate(\n",
        "    input_ids=inputs[\"input_ids\"],\n",
        "    pixel_values=inputs[\"pixel_values\"],\n",
        "    max_new_tokens=1024,\n",
        "    do_sample=False,\n",
        "    num_beams=3\n",
        ")\n",
        "generated_text = processor.batch_decode(generated_ids, skip_special_tokens=False)[0]\n",
        "\n",
        "parsed_answer = processor.post_process_generation(generated_text, task=\"<OD>\", image_size=(src_image.width, src_image.height))\n",
        "\n",
        "print(parsed_answer)"
      ],
      "metadata": {
        "id": "iYo3A92E2Xny",
        "outputId": "d6365f2e-766c-4c1b-d9ef-ea3b55afc756",
        "colab": {
          "base_uri": "https://localhost:8080/"
        }
      },
      "execution_count": 28,
      "outputs": [
        {
          "output_type": "stream",
          "name": "stdout",
          "text": [
            "{'<OD>': {'bboxes': [[0.14949999749660492, 69.21849822998047, 70.1155014038086, 172.07449340820312]], 'labels': ['fibrosis']}}\n"
          ]
        }
      ]
    },
    {
      "cell_type": "code",
      "source": [],
      "metadata": {
        "id": "Bh4SJbJdnuRi"
      },
      "execution_count": 28,
      "outputs": []
    }
  ]
}